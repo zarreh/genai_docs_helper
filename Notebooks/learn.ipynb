{
 "cells": [
  {
   "cell_type": "code",
   "execution_count": 1,
   "id": "320e0912",
   "metadata": {},
   "outputs": [],
   "source": [
    "# Required imports\n",
    "from langchain.document_loaders import UnstructuredMarkdownLoader, NotebookLoader\n",
    "from langchain.document_loaders import DirectoryLoader\n",
    "from langchain.text_splitter import RecursiveCharacterTextSplitter\n",
    "from langchain_openai import OpenAIEmbeddings\n",
    "from langchain.vectorstores import Chroma\n",
    "from langchain.chains import RetrievalQA\n",
    "from langchain_openai import ChatOpenAI\n",
    "from langchain.prompts import PromptTemplate, ChatPromptTemplate\n",
    "from typing import List, Dict\n",
    "from datetime import datetime\n",
    "import glob\n",
    "from dotenv import load_dotenv, find_dotenv\n",
    "import os\n",
    "from IPython.display import display, Markdown"
   ]
  },
  {
   "cell_type": "code",
   "execution_count": 2,
   "id": "29a881cc",
   "metadata": {},
   "outputs": [
    {
     "data": {
      "text/plain": [
       "True"
      ]
     },
     "execution_count": 2,
     "metadata": {},
     "output_type": "execute_result"
    }
   ],
   "source": [
    "# Load environment variables\n",
    "load_dotenv(find_dotenv())"
   ]
  },
  {
   "cell_type": "code",
   "execution_count": 3,
   "id": "d1cb0dc5",
   "metadata": {},
   "outputs": [],
   "source": [
    "from langchain.prompts import (\n",
    "    ChatPromptTemplate,\n",
    "    SystemMessagePromptTemplate,\n",
    "    HumanMessagePromptTemplate,\n",
    "    MessagesPlaceholder,\n",
    ")\n",
    "\n",
    "# System message template\n",
    "system_template = \"\"\"You are a specialized AI assistant focused on demand forecasting and related topics. Your role is to:\n",
    "- Provide accurate, well-structured responses based on given context\n",
    "- Always cite sources using [Source X] format\n",
    "- Maintain focus on demand forecasting topics\n",
    "- Be transparent about information limitations\n",
    "- Structure responses logically and clearly\n",
    "- Ensure every significant statement has a source citation\"\"\"\n",
    "\n",
    "# Human message template\n",
    "human_template = \"\"\"Use the following context to answer the question:\n",
    "\n",
    "Context: {context}\n",
    "\n",
    "Question: {question}\n",
    "\n",
    "Please follow these guidelines in your response:\n",
    "1. Use ONLY information from the provided context\n",
    "2. ALWAYS cite your sources using [Source X] format where X is the source number\n",
    "3. If multiple sources support a statement, cite all relevant sources: [Source 1,2]\n",
    "4. If the context doesn't contain enough information, clearly state that\n",
    "5. Structure your response in a clear, logical manner\n",
    "\n",
    "Remember: Every significant statement must have a source citation.\"\"\""
   ]
  },
  {
   "cell_type": "code",
   "execution_count": 4,
   "id": "64ff9ac9",
   "metadata": {},
   "outputs": [],
   "source": [
    "chat_prompt = ChatPromptTemplate(\n",
    "    input_variables=[\"context\", \"question\"],\n",
    "    messages=[\n",
    "        SystemMessagePromptTemplate.from_template(system_template),\n",
    "        MessagesPlaceholder(variable_name=\"chat_history\"),\n",
    "        HumanMessagePromptTemplate.from_template(human_template),\n",
    "    ],\n",
    ")"
   ]
  },
  {
   "cell_type": "code",
   "execution_count": 5,
   "id": "bc06725c",
   "metadata": {},
   "outputs": [],
   "source": [
    "context = \"\"\"[Source 1]\n",
    "The retail industry has seen significant changes in demand forecasting methods over the past decade. Machine learning models have shown a 25% improvement in accuracy compared to traditional statistical methods. The most successful retailers are using a combination of historical sales data, weather patterns, and social media trends to predict demand.\n",
    "\n",
    "[Source 2]\n",
    "A 2023 study by RetailTech Research showed that companies using AI-driven demand forecasting reduced their inventory costs by 30% and improved stock availability by 22%. The study covered 150 retail chains across North America and Europe.\n",
    "\n",
    "[Source 3]\n",
    "Seasonal factors remain crucial in retail demand forecasting. The study found that 78% of fashion retailers who incorporated seasonal indices in their forecasting models achieved better accuracy rates. However, the COVID-19 pandemic disrupted traditional seasonal patterns, requiring new approaches to forecasting.\n",
    "\n",
    "[Source 4]\n",
    "Real-time data integration has become essential for modern demand forecasting. Retailers who update their forecasts daily based on POS data show 15% better accuracy than those using weekly updates. Mobile data and social media trends are now being used as leading indicators for demand shifts.\"\"\"\n",
    "\n",
    "# Initial question to test\n",
    "question_1 = \"What are the main benefits of using AI in retail demand forecasting, and how has it impacted inventory management?\"\n",
    "\n",
    "question_2 = \"Can you elaborate more on how seasonal factors affect these AI-driven forecasting models?\""
   ]
  },
  {
   "cell_type": "code",
   "execution_count": 6,
   "id": "02996862",
   "metadata": {},
   "outputs": [],
   "source": [
    "# Format the prompt messages\n",
    "prompt_messages = chat_prompt.format_messages(\n",
    "    context=\"\",\n",
    "    question=question_1,\n",
    "    chat_history=[],\n",
    ")"
   ]
  },
  {
   "cell_type": "code",
   "execution_count": null,
   "id": "f0ded8a1",
   "metadata": {},
   "outputs": [],
   "source": [
    "from typing import Dict, List, TypedDict\n",
    "from langchain_core.messages import HumanMessage, SystemMessage, AIMessage\n",
    "from langchain_openai import ChatOpenAI\n",
    "from langgraph.graph import StateGraph, END\n",
    "from langchain_core.prompts import (\n",
    "    ChatPromptTemplate,\n",
    "    SystemMessagePromptTemplate,\n",
    "    HumanMessagePromptTemplate,\n",
    "    MessagesPlaceholder,\n",
    ")\n",
    "\n",
    "\n",
    "class InputState(TypedDict):\n",
    "    messages: List\n",
    "    context: str\n",
    "    question: str\n",
    "\n",
    "\n",
    "class PrivateState(TypedDict):\n",
    "\n",
    "    prompt_messages: str\n",
    "    chat_history: str\n",
    "    ai_message: str\n",
    "\n",
    "\n",
    "class OutputState(TypedDict):\n",
    "    pass\n",
    "    # answer: str\n",
    "\n",
    "\n",
    "class GraphState(InputState, PrivateState, OutputState):\n",
    "    pass\n",
    "\n",
    "\n",
    "# # Define our state\n",
    "# class GraphState(TypedDict):\n",
    "#     messages: List\n",
    "#     context: str\n",
    "#     question: str\n",
    "#     prompt_messages: str\n",
    "#     chat_history: str\n",
    "#     ai_message: str"
   ]
  },
  {
   "cell_type": "code",
   "execution_count": null,
   "id": "5e178781",
   "metadata": {},
   "outputs": [],
   "source": [
    "def extract_chat_history(state: GraphState) -> GraphState:\n",
    "    \"\"\"Extract relevant chat history from messages.\"\"\"\n",
    "    chat_history = []\n",
    "    for msg in state[\"messages\"]:\n",
    "        if isinstance(msg, (HumanMessage, AIMessage)):\n",
    "            chat_history.append(msg)\n",
    "\n",
    "    # Store chat history in state for next node\n",
    "    state[\"chat_history\"] = chat_history\n",
    "    print(f\"CHat History: {chat_history}\")\n",
    "    return state\n",
    "\n",
    "\n",
    "def format_prompt(state: GraphState) -> GraphState:\n",
    "    \"\"\"Format the prompt with context, question and chat history.\"\"\"\n",
    "    # Initialize chat_history if it doesn't exist\n",
    "    if \"chat_history\" not in state:\n",
    "        state[\"chat_history\"] = []\n",
    "\n",
    "    # Format the prompt messages\n",
    "    prompt_messages = chat_prompt.format_messages(\n",
    "        context=state[\"context\"],\n",
    "        question=state[\"question\"],\n",
    "        chat_history=state[\"chat_history\"],\n",
    "    )\n",
    "    print(f\"PROMPT MESSAGE: \\n {prompt_messages}\")\n",
    "\n",
    "    # Store formatted prompt in state for next node\n",
    "    state[\"prompt_messages\"] = prompt_messages\n",
    "    return state\n",
    "\n",
    "\n",
    "def get_llm_response(state: GraphState) -> GraphState:\n",
    "    \"\"\"Get response from LLM using the formatted prompt.\"\"\"\n",
    "    print(f\"PROMPT MESSAGE: \\n {state['prompt_messages']}\")\n",
    "    llm = ChatOpenAI(temperature=0.7)\n",
    "\n",
    "    # Use the prompt messages to get a response\n",
    "    ai_message = llm.invoke(state[\"prompt_messages\"])\n",
    "\n",
    "    # Store AI message in state for next node\n",
    "    state[\"ai_message\"] = ai_message\n",
    "    print(f\"AI MESSAGE: {ai_message}\")\n",
    "    return state\n",
    "\n",
    "\n",
    "def update_message_history(state: GraphState) -> GraphState:\n",
    "    \"\"\"Update message history with new question and response.\"\"\"\n",
    "    # Add the new messages to the state\n",
    "    state[\"messages\"].append(HumanMessage(content=state[\"question\"]))\n",
    "    # if \"ai_message\" in state:\n",
    "    state[\"messages\"].append(state[\"ai_message\"])\n",
    "\n",
    "    # Clean up temporary state variables if desired\n",
    "    if \"chat_history\" in state:\n",
    "        del state[\"chat_history\"]\n",
    "    if \"prompt_messages\" in state:\n",
    "        del state[\"prompt_messages\"]\n",
    "    if \"ai_message\" in state:\n",
    "        del state[\"ai_message\"]\n",
    "\n",
    "    return state"
   ]
  },
  {
   "cell_type": "code",
   "execution_count": 10,
   "id": "2b513fe1",
   "metadata": {},
   "outputs": [],
   "source": [
    "def handle_irrelevant_question(state: GraphState) -> GraphState:\n",
    "    \"\"\"Handle questions not relevant to demand forecasting.\"\"\"\n",
    "    state[\"messages\"].append(HumanMessage(content=state[\"question\"]))\n",
    "    state[\"messages\"].append(\n",
    "        AIMessage(\n",
    "            content=\"I'm specialized in demand forecasting. Your question appears to be outside my area of expertise.\"\n",
    "        )\n",
    "    )\n",
    "    return state\n",
    "\n",
    "\n",
    "def check_context_relevance(state: GraphState) -> str:\n",
    "    \"\"\"Check if the context is relevant to the question.\"\"\"\n",
    "    # Simple keyword matching for demo purposes\n",
    "    keywords = [\"forecast\", \"demand\", \"retail\", \"inventory\"]\n",
    "    if any(keyword in state[\"question\"].lower() for keyword in keywords):\n",
    "        return \"RELEVANT\"\n",
    "    return \"NOT_RELEVANT\""
   ]
  },
  {
   "cell_type": "code",
   "execution_count": 11,
   "id": "e25087b3",
   "metadata": {},
   "outputs": [],
   "source": [
    "def build_graph():\n",
    "    # Initialize the graph\n",
    "    graph = StateGraph(GraphState)\n",
    "\n",
    "    # Add the nodes\n",
    "    graph.add_node(\"extract_chat_history\", extract_chat_history)\n",
    "    graph.add_node(\"format_prompt\", format_prompt)\n",
    "    graph.add_node(\"get_llm_response\", get_llm_response)\n",
    "    graph.add_node(\"update_message_history\", update_message_history)\n",
    "    graph.add_node(\"handle_irrelevant_question\", handle_irrelevant_question)\n",
    "\n",
    "    # Set the entry point\n",
    "    graph.set_entry_point(\"extract_chat_history\")\n",
    "\n",
    "    # Add conditional edges first (before any direct edges)\n",
    "    graph.add_conditional_edges(\n",
    "        \"extract_chat_history\",\n",
    "        check_context_relevance,\n",
    "        {\"RELEVANT\": \"format_prompt\", \"NOT_RELEVANT\": \"handle_irrelevant_question\"},\n",
    "    )\n",
    "\n",
    "    # Add the remaining edges in sequence\n",
    "    graph.add_edge(\"format_prompt\", \"get_llm_response\")\n",
    "    graph.add_edge(\"get_llm_response\", \"update_message_history\")\n",
    "    graph.add_edge(\"handle_irrelevant_question\", END)\n",
    "    graph.add_edge(\"update_message_history\", END)\n",
    "\n",
    "    # Compile the graph\n",
    "    return graph.compile()"
   ]
  },
  {
   "cell_type": "code",
   "execution_count": 12,
   "id": "4f7fb3d7",
   "metadata": {},
   "outputs": [],
   "source": [
    "graph = build_graph()"
   ]
  },
  {
   "cell_type": "code",
   "execution_count": 13,
   "id": "87253afe",
   "metadata": {},
   "outputs": [
    {
     "data": {
      "image/png": "[encoded data removed]",
      "text/plain": [
       "<langgraph.graph.state.CompiledStateGraph object at 0x7f88de59da20>"
      ]
     },
     "execution_count": 13,
     "metadata": {},
     "output_type": "execute_result"
    }
   ],
   "source": [
    "graph"
   ]
  },
  {
   "cell_type": "code",
   "execution_count": 14,
   "id": "28e51417",
   "metadata": {},
   "outputs": [],
   "source": [
    "# Usage example\n",
    "def query_system(question, context, messages=None):\n",
    "    if len(messages) or messages is None:\n",
    "        messages = [SystemMessage(content=system_template)]\n",
    "\n",
    "    # Create the initial state\n",
    "    state = {\"messages\": messages, \"context\": context, \"question\": question}\n",
    "\n",
    "    # Run the graph - use the correct method\n",
    "    result = graph.invoke(state)  # Changed from invoke() to run()\n",
    "\n",
    "    return result"
   ]
  },
  {
   "cell_type": "code",
   "execution_count": 15,
   "id": "7d28e782",
   "metadata": {},
   "outputs": [
    {
     "name": "stdout",
     "output_type": "stream",
     "text": [
      "CHat History: []\n",
      "PROMPT MESSAGE: \n",
      " [SystemMessage(content='You are a specialized AI assistant focused on demand forecasting and related topics. Your role is to:\\n- Provide accurate, well-structured responses based on given context\\n- Always cite sources using [Source X] format\\n- Maintain focus on demand forecasting topics\\n- Be transparent about information limitations\\n- Structure responses logically and clearly\\n- Ensure every significant statement has a source citation', additional_kwargs={}, response_metadata={}), HumanMessage(content=\"Use the following context to answer the question:\\n\\nContext: [Source 1]\\nThe retail industry has seen significant changes in demand forecasting methods over the past decade. Machine learning models have shown a 25% improvement in accuracy compared to traditional statistical methods. The most successful retailers are using a combination of historical sales data, weather patterns, and social media trends to predict demand.\\n\\n[Source 2]\\nA 2023 study by RetailTech Research showed that companies using AI-driven demand forecasting reduced their inventory costs by 30% and improved stock availability by 22%. The study covered 150 retail chains across North America and Europe.\\n\\n[Source 3]\\nSeasonal factors remain crucial in retail demand forecasting. The study found that 78% of fashion retailers who incorporated seasonal indices in their forecasting models achieved better accuracy rates. However, the COVID-19 pandemic disrupted traditional seasonal patterns, requiring new approaches to forecasting.\\n\\n[Source 4]\\nReal-time data integration has become essential for modern demand forecasting. Retailers who update their forecasts daily based on POS data show 15% better accuracy than those using weekly updates. Mobile data and social media trends are now being used as leading indicators for demand shifts.\\n\\nQuestion: What are the main benefits of using AI in retail demand forecasting?\\n\\nPlease follow these guidelines in your response:\\n1. Use ONLY information from the provided context\\n2. ALWAYS cite your sources using [Source X] format where X is the source number\\n3. If multiple sources support a statement, cite all relevant sources: [Source 1,2]\\n4. If the context doesn't contain enough information, clearly state that\\n5. Structure your response in a clear, logical manner\\n\\nRemember: Every significant statement must have a source citation.\", additional_kwargs={}, response_metadata={})]\n",
      "PROMPT MESSAGE: \n",
      " [SystemMessage(content='You are a specialized AI assistant focused on demand forecasting and related topics. Your role is to:\\n- Provide accurate, well-structured responses based on given context\\n- Always cite sources using [Source X] format\\n- Maintain focus on demand forecasting topics\\n- Be transparent about information limitations\\n- Structure responses logically and clearly\\n- Ensure every significant statement has a source citation', additional_kwargs={}, response_metadata={}), HumanMessage(content=\"Use the following context to answer the question:\\n\\nContext: [Source 1]\\nThe retail industry has seen significant changes in demand forecasting methods over the past decade. Machine learning models have shown a 25% improvement in accuracy compared to traditional statistical methods. The most successful retailers are using a combination of historical sales data, weather patterns, and social media trends to predict demand.\\n\\n[Source 2]\\nA 2023 study by RetailTech Research showed that companies using AI-driven demand forecasting reduced their inventory costs by 30% and improved stock availability by 22%. The study covered 150 retail chains across North America and Europe.\\n\\n[Source 3]\\nSeasonal factors remain crucial in retail demand forecasting. The study found that 78% of fashion retailers who incorporated seasonal indices in their forecasting models achieved better accuracy rates. However, the COVID-19 pandemic disrupted traditional seasonal patterns, requiring new approaches to forecasting.\\n\\n[Source 4]\\nReal-time data integration has become essential for modern demand forecasting. Retailers who update their forecasts daily based on POS data show 15% better accuracy than those using weekly updates. Mobile data and social media trends are now being used as leading indicators for demand shifts.\\n\\nQuestion: What are the main benefits of using AI in retail demand forecasting?\\n\\nPlease follow these guidelines in your response:\\n1. Use ONLY information from the provided context\\n2. ALWAYS cite your sources using [Source X] format where X is the source number\\n3. If multiple sources support a statement, cite all relevant sources: [Source 1,2]\\n4. If the context doesn't contain enough information, clearly state that\\n5. Structure your response in a clear, logical manner\\n\\nRemember: Every significant statement must have a source citation.\", additional_kwargs={}, response_metadata={})]\n",
      "AI MESSAGE: content='Using the provided context, the main benefits of using AI in retail demand forecasting are:\\n\\n1. **Improved Accuracy**: Retail companies utilizing AI-driven demand forecasting experience a 25% increase in accuracy compared to traditional statistical methods [Source 1].\\n\\n2. **Cost Reduction and Stock Availability Improvement**: According to a study by RetailTech Research, companies employing AI-driven demand forecasting reduced their inventory costs by 30% and enhanced stock availability by 22% [Source 2].\\n\\n3. **Enhanced Seasonal Forecasting**: Incorporating seasonal factors in demand forecasting models significantly improves accuracy rates, as demonstrated by 78% of fashion retailers who utilized seasonal indices [Source 3].\\n\\n4. **Adaptation to Disruptions**: AI enables retailers to adapt to disruptions like the COVID-19 pandemic, which can disrupt traditional seasonal patterns, by allowing for the incorporation of new data and approaches into forecasting models [Source 3].\\n\\n5. **Real-time Data Integration**: Retailers benefit from incorporating real-time data, such as POS data, mobile data, and social media trends, into their demand forecasting processes. This integration leads to 15% better accuracy when forecasts are updated daily compared to weekly updates [Source 4]. \\n\\nIn conclusion, AI-driven demand forecasting in retail offers improved accuracy, cost reduction, enhanced stock availability, better seasonal forecasting, adaptation to disruptions, and the integration of real-time data for more accurate predictions.' additional_kwargs={'refusal': None} response_metadata={'token_usage': {'completion_tokens': 285, 'prompt_tokens': 434, 'total_tokens': 719, 'completion_tokens_details': {'accepted_prediction_tokens': 0, 'audio_tokens': 0, 'reasoning_tokens': 0, 'rejected_prediction_tokens': 0}, 'prompt_tokens_details': {'audio_tokens': 0, 'cached_tokens': 0}}, 'model_name': 'gpt-3.5-turbo-0125', 'system_fingerprint': None, 'id': 'chatcmpl-BTd7Yf88kI8N7PIRp9r3cYofC7sZt', 'service_tier': 'default', 'finish_reason': 'stop', 'logprobs': None} id='run--4a5e601a-a57a-46ae-b265-7ccbf8373be8-0' usage_metadata={'input_tokens': 434, 'output_tokens': 285, 'total_tokens': 719, 'input_token_details': {'audio': 0, 'cache_read': 0}, 'output_token_details': {'audio': 0, 'reasoning': 0}}\n"
     ]
    },
    {
     "data": {
      "text/markdown": [
       "AI Response: Using the provided context, the main benefits of using AI in retail demand forecasting are:\n",
       "\n",
       "1. **Improved Accuracy**: Retail companies utilizing AI-driven demand forecasting experience a 25% increase in accuracy compared to traditional statistical methods [Source 1].\n",
       "\n",
       "2. **Cost Reduction and Stock Availability Improvement**: According to a study by RetailTech Research, companies employing AI-driven demand forecasting reduced their inventory costs by 30% and enhanced stock availability by 22% [Source 2].\n",
       "\n",
       "3. **Enhanced Seasonal Forecasting**: Incorporating seasonal factors in demand forecasting models significantly improves accuracy rates, as demonstrated by 78% of fashion retailers who utilized seasonal indices [Source 3].\n",
       "\n",
       "4. **Adaptation to Disruptions**: AI enables retailers to adapt to disruptions like the COVID-19 pandemic, which can disrupt traditional seasonal patterns, by allowing for the incorporation of new data and approaches into forecasting models [Source 3].\n",
       "\n",
       "5. **Real-time Data Integration**: Retailers benefit from incorporating real-time data, such as POS data, mobile data, and social media trends, into their demand forecasting processes. This integration leads to 15% better accuracy when forecasts are updated daily compared to weekly updates [Source 4]. \n",
       "\n",
       "In conclusion, AI-driven demand forecasting in retail offers improved accuracy, cost reduction, enhanced stock availability, better seasonal forecasting, adaptation to disruptions, and the integration of real-time data for more accurate predictions."
      ],
      "text/plain": [
       "<IPython.core.display.Markdown object>"
      ]
     },
     "metadata": {},
     "output_type": "display_data"
    }
   ],
   "source": [
    "# Run the graph with your input state\n",
    "result_state = graph.invoke(\n",
    "    {\n",
    "        \"messages\": [],\n",
    "        \"context\": context,\n",
    "        \"question\": \"What are the main benefits of using AI in retail demand forecasting?\",\n",
    "    }\n",
    ")\n",
    "\n",
    "# Get the last message (which is the AI's response)\n",
    "last_message = result_state[\"messages\"][-1]\n",
    "\n",
    "# If you want just the content of the message\n",
    "response_content = last_message.content\n",
    "\n",
    "display(Markdown(f\"AI Response: {response_content}\"))"
   ]
  },
  {
   "cell_type": "code",
   "execution_count": 16,
   "id": "55ac71b5",
   "metadata": {},
   "outputs": [
    {
     "name": "stdout",
     "output_type": "stream",
     "text": [
      "CHat History: []\n",
      "PROMPT MESSAGE: \n",
      " [SystemMessage(content='You are a specialized AI assistant focused on demand forecasting and related topics. Your role is to:\\n- Provide accurate, well-structured responses based on given context\\n- Always cite sources using [Source X] format\\n- Maintain focus on demand forecasting topics\\n- Be transparent about information limitations\\n- Structure responses logically and clearly\\n- Ensure every significant statement has a source citation', additional_kwargs={}, response_metadata={}), HumanMessage(content=\"Use the following context to answer the question:\\n\\nContext: [Source 1]\\nThe retail industry has seen significant changes in demand forecasting methods over the past decade. Machine learning models have shown a 25% improvement in accuracy compared to traditional statistical methods. The most successful retailers are using a combination of historical sales data, weather patterns, and social media trends to predict demand.\\n\\n[Source 2]\\nA 2023 study by RetailTech Research showed that companies using AI-driven demand forecasting reduced their inventory costs by 30% and improved stock availability by 22%. The study covered 150 retail chains across North America and Europe.\\n\\n[Source 3]\\nSeasonal factors remain crucial in retail demand forecasting. The study found that 78% of fashion retailers who incorporated seasonal indices in their forecasting models achieved better accuracy rates. However, the COVID-19 pandemic disrupted traditional seasonal patterns, requiring new approaches to forecasting.\\n\\n[Source 4]\\nReal-time data integration has become essential for modern demand forecasting. Retailers who update their forecasts daily based on POS data show 15% better accuracy than those using weekly updates. Mobile data and social media trends are now being used as leading indicators for demand shifts.\\n\\nQuestion: Can you elaborate more on how seasonal factors affect these AI-driven forecasting models?\\n\\nPlease follow these guidelines in your response:\\n1. Use ONLY information from the provided context\\n2. ALWAYS cite your sources using [Source X] format where X is the source number\\n3. If multiple sources support a statement, cite all relevant sources: [Source 1,2]\\n4. If the context doesn't contain enough information, clearly state that\\n5. Structure your response in a clear, logical manner\\n\\nRemember: Every significant statement must have a source citation.\", additional_kwargs={}, response_metadata={})]\n",
      "PROMPT MESSAGE: \n",
      " [SystemMessage(content='You are a specialized AI assistant focused on demand forecasting and related topics. Your role is to:\\n- Provide accurate, well-structured responses based on given context\\n- Always cite sources using [Source X] format\\n- Maintain focus on demand forecasting topics\\n- Be transparent about information limitations\\n- Structure responses logically and clearly\\n- Ensure every significant statement has a source citation', additional_kwargs={}, response_metadata={}), HumanMessage(content=\"Use the following context to answer the question:\\n\\nContext: [Source 1]\\nThe retail industry has seen significant changes in demand forecasting methods over the past decade. Machine learning models have shown a 25% improvement in accuracy compared to traditional statistical methods. The most successful retailers are using a combination of historical sales data, weather patterns, and social media trends to predict demand.\\n\\n[Source 2]\\nA 2023 study by RetailTech Research showed that companies using AI-driven demand forecasting reduced their inventory costs by 30% and improved stock availability by 22%. The study covered 150 retail chains across North America and Europe.\\n\\n[Source 3]\\nSeasonal factors remain crucial in retail demand forecasting. The study found that 78% of fashion retailers who incorporated seasonal indices in their forecasting models achieved better accuracy rates. However, the COVID-19 pandemic disrupted traditional seasonal patterns, requiring new approaches to forecasting.\\n\\n[Source 4]\\nReal-time data integration has become essential for modern demand forecasting. Retailers who update their forecasts daily based on POS data show 15% better accuracy than those using weekly updates. Mobile data and social media trends are now being used as leading indicators for demand shifts.\\n\\nQuestion: Can you elaborate more on how seasonal factors affect these AI-driven forecasting models?\\n\\nPlease follow these guidelines in your response:\\n1. Use ONLY information from the provided context\\n2. ALWAYS cite your sources using [Source X] format where X is the source number\\n3. If multiple sources support a statement, cite all relevant sources: [Source 1,2]\\n4. If the context doesn't contain enough information, clearly state that\\n5. Structure your response in a clear, logical manner\\n\\nRemember: Every significant statement must have a source citation.\", additional_kwargs={}, response_metadata={})]\n",
      "AI MESSAGE: content='Seasonal factors play a crucial role in AI-driven demand forecasting models, impacting their accuracy and effectiveness [Source 3]. Incorporating seasonal indices into forecasting models has been shown to improve accuracy rates for retail demand forecasting, especially in industries like fashion [Source 3]. However, the COVID-19 pandemic has disrupted traditional seasonal patterns, challenging the effectiveness of these models and necessitating the adoption of new forecasting approaches [Source 3]. \\n\\nIncorporating seasonal factors into AI-driven forecasting models is essential for understanding and predicting demand fluctuations based on specific time periods or seasons. This consideration allows retailers to adjust their inventory levels and marketing strategies accordingly, improving overall forecasting accuracy and inventory management [Source 3].' additional_kwargs={'refusal': None} response_metadata={'token_usage': {'completion_tokens': 141, 'prompt_tokens': 436, 'total_tokens': 577, 'completion_tokens_details': {'accepted_prediction_tokens': 0, 'audio_tokens': 0, 'reasoning_tokens': 0, 'rejected_prediction_tokens': 0}, 'prompt_tokens_details': {'audio_tokens': 0, 'cached_tokens': 0}}, 'model_name': 'gpt-3.5-turbo-0125', 'system_fingerprint': None, 'id': 'chatcmpl-BTd7d4Y2qSHj5bKFsUoAiQXOMngki', 'service_tier': 'default', 'finish_reason': 'stop', 'logprobs': None} id='run--da34dc78-7e4f-4b06-ab4e-3df17d49e797-0' usage_metadata={'input_tokens': 436, 'output_tokens': 141, 'total_tokens': 577, 'input_token_details': {'audio': 0, 'cache_read': 0}, 'output_token_details': {'audio': 0, 'reasoning': 0}}\n"
     ]
    },
    {
     "data": {
      "text/markdown": [
       "AI Response: Seasonal factors play a crucial role in AI-driven demand forecasting models, impacting their accuracy and effectiveness [Source 3]. Incorporating seasonal indices into forecasting models has been shown to improve accuracy rates for retail demand forecasting, especially in industries like fashion [Source 3]. However, the COVID-19 pandemic has disrupted traditional seasonal patterns, challenging the effectiveness of these models and necessitating the adoption of new forecasting approaches [Source 3]. \n",
       "\n",
       "Incorporating seasonal factors into AI-driven forecasting models is essential for understanding and predicting demand fluctuations based on specific time periods or seasons. This consideration allows retailers to adjust their inventory levels and marketing strategies accordingly, improving overall forecasting accuracy and inventory management [Source 3]."
      ],
      "text/plain": [
       "<IPython.core.display.Markdown object>"
      ]
     },
     "metadata": {},
     "output_type": "display_data"
    }
   ],
   "source": [
    "result_state = graph.invoke(\n",
    "    {\n",
    "        \"messages\": [],\n",
    "        \"context\": context,\n",
    "        \"question\": question_2,\n",
    "    }\n",
    ")\n",
    "\n",
    "# Get the last message (which is the AI's response)\n",
    "last_message = result_state[\"messages\"][-1]\n",
    "\n",
    "# If you want just the content of the message\n",
    "response_content = last_message.content\n",
    "\n",
    "display(Markdown(f\"AI Response: {response_content}\"))"
   ]
  },
  {
   "cell_type": "code",
   "execution_count": null,
   "id": "a7d2c166",
   "metadata": {},
   "outputs": [],
   "source": [
    "# # Initialize with system message\n",
    "# initial_messages = [SystemMessage(content=system_template)]\n",
    "\n",
    "# # Process a query\n",
    "# result = query_system(\n",
    "#     \"What are the main benefits of using AI in retail demand forecasting?\",\n",
    "#     context,\n",
    "#     initial_messages,\n",
    "# )"
   ]
  },
  {
   "cell_type": "code",
   "execution_count": null,
   "id": "41763537",
   "metadata": {},
   "outputs": [
    {
     "data": {
      "text/markdown": [
       "Seasonal factors play a crucial role in AI-driven demand forecasting models, impacting their accuracy and effectiveness [Source 3]. Incorporating seasonal indices into forecasting models has been shown to improve accuracy rates for retail demand forecasting, especially in industries like fashion [Source 3]. However, the COVID-19 pandemic has disrupted traditional seasonal patterns, challenging the effectiveness of these models and necessitating the adoption of new forecasting approaches [Source 3]. \n",
       "\n",
       "Incorporating seasonal factors into AI-driven forecasting models is essential for understanding and predicting demand fluctuations based on specific time periods or seasons. This consideration allows retailers to adjust their inventory levels and marketing strategies accordingly, improving overall forecasting accuracy and inventory management [Source 3]."
      ],
      "text/plain": [
       "<IPython.core.display.Markdown object>"
      ]
     },
     "metadata": {},
     "output_type": "display_data"
    }
   ],
   "source": [
    "# display(Markdown(result_state[\"messages\"][-1].content))"
   ]
  }
 ],
 "metadata": {
  "kernelspec": {
   "display_name": "env_genai",
   "language": "python",
   "name": "python3"
  },
  "language_info": {
   "codemirror_mode": {
    "name": "ipython",
    "version": 3
   },
   "file_extension": ".py",
   "mimetype": "text/x-python",
   "name": "python",
   "nbconvert_exporter": "python",
   "pygments_lexer": "ipython3",
   "version": "3.10.12"
  }
 },
 "nbformat": 4,
 "nbformat_minor": 5
}
