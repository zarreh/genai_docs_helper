{
 "cells": [
  {
   "cell_type": "markdown",
   "metadata": {
    "_cell_guid": "b1076dfc-b9ad-4769-8c92-a6c4dae69d19",
    "_uuid": "8f2839f25d086af736a60e9eeb907d3b93b6e0e5"
   },
   "source": [
    "**If you think this notebook deserves an upvote, I'd love to have it. An upvote per view, its all I ask**\n",
    "(credit to [Dan Carlin](https://twitter.com/HardcoreHistory) for coining the phrase ;-) \n",
    "\n",
    "---------------------------------------\n",
    "\n",
    "This is part of a series of notebooks about practical time series methods:\n",
    "\n",
    "* [Part 0: the basics](https://www.kaggle.com/konradb/ts-0-the-basics)\n",
    "* [Part 1a: smoothing methods](https://www.kaggle.com/konradb/ts-1a-smoothing-methods)\n",
    "* [Part 1b: Prophet](https://www.kaggle.com/konradb/ts-1b-prophet) \n",
    "* [Part 2: ARMA](https://www.kaggle.com/konradb/ts-2-arma-and-friends)\n",
    "* [Part 3: Time series for finance](https://www.kaggle.com/konradb/ts-3-time-series-for-finance) - **this notebook**\n",
    "* [Part 4: Sales and demand forecasting](https://www.kaggle.com/konradb/ts-4-sales-and-demand-forecasting)\n",
    "* [Part 5: Automatic for the people](https://www.kaggle.com/code/konradb/ts-5-automatic-for-the-people)\n",
    "* [Part 6: Deep learning for TS - sequences](https://www.kaggle.com/konradb/ts-6-deep-learning-for-ts-sequences)\n",
    "* [Part 7: Survival analysis](https://www.kaggle.com/code/konradb/ts-7-survival-analysis)\n",
    "* [Part 8: Hierarchical time series](https://www.kaggle.com/code/konradb/ts-8-hierarchical-time-series)\n",
    "* [Part 9: Hybrid methods](https://www.kaggle.com/code/konradb/ts-9-hybrid-methods/)\n",
    "* [Part 10: Validation methods for time series](https://www.kaggle.com/code/konradb/ts-10-validation-methods-for-time-series/)\n",
    "* [Part 11: Transfer learning](https://www.kaggle.com/code/konradb/ts-11-deep-learning-for-ts-transfer-learning)\n",
    "\n",
    "\n",
    "The series is accompanied by video presentations on the YouTube channel of [Abhishek](https://www.kaggle.com/abhishek):\n",
    "\n",
    "* [Talk 0](https://www.youtube.com/watch?v=cKzXOOtOXYY) \n",
    "* [Talk 1](https://www.youtube.com/watch?v=kAI67Sz92-s) - combining the content from parts 1a and 1b\n",
    "* [Talk 2](https://www.youtube.com/watch?v=LjV5DE3KR-U) \n",
    "* [Talk 3](https://www.youtube.com/watch?v=74rDhJexmTg) - **based on this notebook**\n",
    "* [Talk 4](https://www.youtube.com/watch?v=RdH8zd07u2E)  \n",
    "* [Talk 5](https://www.youtube.com/watch?v=wBP8Pc4Wxzs)\n",
    "* [Talk 6](https://www.youtube.com/watch?v=81AEI0tj0Kk)\n",
    "* [Talk 7](https://www.youtube.com/watch?v=m-8I_hkmz9o)\n",
    "* [Talk 8](https://www.youtube.com/watch?v=7ZTarg4QYR4)\n",
    "* [Talk 9](https://www.youtube.com/watch?v=NYZzBvKcfp4)\n",
    "* [Talk 10](https://www.youtube.com/watch?v=47WeBiLV2Uo)\n",
    "* [Talk 11]()\n",
    "\n",
    "\n",
    "---------------------------------------\n",
    "\n",
    "\n",
    "This notebook was inspired by the Q&A part of the YouTube session about ARIMA and friends - the repeated questions about stock performance forecasting suggested it was a topic that reasonated with a lot of people. When we were discussing ARIMA, applying the logic underlying those models was mentioned briefly; one thing leading to another, I decided to add an episode in the series and talk about modeling techniques useful specifically (but not exclusively!) in the financial context.\n",
    "\n",
    "* [Volatility clustering](#section-one)\n",
    "* [Mean and variance models](#section-two)\n",
    "* [Forecasting](#section-three)\n",
    "* [Value at Risk](#section-four)\n",
    "\n"
   ]
  },
  {
   "cell_type": "code",
   "execution_count": null,
   "metadata": {
    "execution": {
     "iopub.execute_input": "2022-03-05T15:20:45.350928Z",
     "iopub.status.busy": "2022-03-05T15:20:45.350074Z",
     "iopub.status.idle": "2022-03-05T15:20:45.405901Z",
     "shell.execute_reply": "2022-03-05T15:20:45.404857Z",
     "shell.execute_reply.started": "2022-03-05T15:20:45.350869Z"
    },
    "trusted": true
   },
   "outputs": [],
   "source": [
    "import itertools\n",
    "import pandas as pd\n",
    "import numpy as np\n",
    "from random import gauss\n",
    "\n",
    "from statsmodels.graphics.tsaplots import plot_acf, plot_pacf\n",
    "from statsmodels.stats.diagnostic import het_arch, acorr_ljungbox\n",
    "\n",
    "from scipy.stats import shapiro\n",
    "from scipy.stats import probplot\n",
    "\n",
    "import matplotlib.pyplot as plt\n",
    "plt.style.use('fivethirtyeight') \n",
    "\n",
    "import warnings\n",
    "warnings.simplefilter(action='ignore', category= FutureWarning)"
   ]
  },
  {
   "cell_type": "code",
   "execution_count": null,
   "metadata": {
    "execution": {
     "iopub.execute_input": "2022-03-05T15:20:55.210883Z",
     "iopub.status.busy": "2022-03-05T15:20:55.210189Z",
     "iopub.status.idle": "2022-03-05T15:20:55.216089Z",
     "shell.execute_reply": "2022-03-05T15:20:55.215225Z",
     "shell.execute_reply.started": "2022-03-05T15:20:55.21082Z"
    },
    "trusted": true
   },
   "outputs": [],
   "source": [
    "# general settings\n",
    "class CFG:\n",
    "    data_folder = '../input/tsdata-1/'\n",
    "    img_dim1 = 20\n",
    "    img_dim2 = 10\n",
    "        \n",
    "# adjust the parameters for displayed figures    \n",
    "plt.rcParams.update({'figure.figsize': (CFG.img_dim1,CFG.img_dim2)})    "
   ]
  },
  {
   "cell_type": "code",
   "execution_count": null,
   "metadata": {
    "execution": {
     "iopub.execute_input": "2022-03-05T14:54:58.357808Z",
     "iopub.status.busy": "2022-03-05T14:54:58.35751Z",
     "iopub.status.idle": "2022-03-05T14:55:08.65596Z",
     "shell.execute_reply": "2022-03-05T14:55:08.654803Z",
     "shell.execute_reply.started": "2022-03-05T14:54:58.357758Z"
    },
    "trusted": true
   },
   "outputs": [],
   "source": [
    "!pip install arch"
   ]
  },
  {
   "cell_type": "markdown",
   "metadata": {},
   "source": [
    "<a id=\"section-one\"></a>\n",
    "# Volatility clustering\n",
    "\n",
    "One of the reason financial time series are challenging to forecast is volatility clustering - periods of high variation in the data cluster together, followed by periods of more stable behavior. You can see an example in the graph below:\n"
   ]
  },
  {
   "cell_type": "code",
   "execution_count": null,
   "metadata": {
    "execution": {
     "iopub.execute_input": "2022-03-05T14:55:08.658656Z",
     "iopub.status.busy": "2022-03-05T14:55:08.658395Z",
     "iopub.status.idle": "2022-03-05T14:55:09.122435Z",
     "shell.execute_reply": "2022-03-05T14:55:09.121764Z",
     "shell.execute_reply.started": "2022-03-05T14:55:08.658627Z"
    },
    "trusted": true
   },
   "outputs": [],
   "source": [
    "stock_name = 'TATASTEEL'\n",
    "df = pd.read_csv('../input/nifty50-stock-market-data/'+stock_name+'.csv')\n",
    "df.set_index(\"Date\", drop=False, inplace=True)\n",
    "\n",
    "df.VWAP.pct_change().plot()"
   ]
  },
  {
   "cell_type": "code",
   "execution_count": null,
   "metadata": {
    "execution": {
     "iopub.execute_input": "2022-03-05T14:55:09.125156Z",
     "iopub.status.busy": "2022-03-05T14:55:09.12445Z",
     "iopub.status.idle": "2022-03-05T14:55:09.559917Z",
     "shell.execute_reply": "2022-03-05T14:55:09.558962Z",
     "shell.execute_reply.started": "2022-03-05T14:55:09.125118Z"
    },
    "trusted": true
   },
   "outputs": [],
   "source": [
    "dfl = np.log1p(df.VWAP).diff().dropna()\n",
    "plot_acf(dfl, lags = 10, title='Autocorrelation - returns'); print()\n",
    "plot_acf(dfl**2, lags = 10, title='Autocorrelation - squared returns'); print()"
   ]
  },
  {
   "cell_type": "code",
   "execution_count": null,
   "metadata": {
    "execution": {
     "iopub.execute_input": "2022-03-05T14:55:09.561464Z",
     "iopub.status.busy": "2022-03-05T14:55:09.561204Z",
     "iopub.status.idle": "2022-03-05T14:55:10.093249Z",
     "shell.execute_reply": "2022-03-05T14:55:10.092042Z",
     "shell.execute_reply.started": "2022-03-05T14:55:09.56143Z"
    },
    "trusted": true
   },
   "outputs": [],
   "source": [
    "\n",
    "plot_pacf(dfl, lags = 10, title='Partial autocorrelation - returns'); print()\n",
    "plot_pacf(dfl**2, lags = 10, title='Partial autocorrelation - squared returns'); print()"
   ]
  },
  {
   "cell_type": "markdown",
   "metadata": {},
   "source": [
    "How do we go about modeling this? \n",
    "\n",
    "<a id=\"section-two\"></a>\n",
    "# Mean and variance models\n",
    "\n",
    "In the ARIMA episode https://www.kaggle.com/konradb/ts-2-arma-and-friends we have described how a linear model can be specified to predict (conditional) expected value. Similar logic can be applied to build a model for predicting (conditional) variance of the residuals from another model - **and not the value of the series itself**.\n",
    "\n"
   ]
  },
  {
   "cell_type": "markdown",
   "metadata": {},
   "source": [
    "## ARCH\n",
    "\n",
    "A simplest model for time-varying variance is ARCH - the abbreviation stands for **a**uto**r**egressive **c**onditional **h**eteroskedasticity:\n",
    "\n",
    "\\begin{equation}\n",
    "\\sigma_t^2 = \\alpha_0 + \\sum_{i=1}^p \\alpha_i \\epsilon_{t-i}^2 \\\\\n",
    "\\end{equation}\n",
    "\n",
    "where $\\epsilon_t = \\sigma_t \\; z_t$. Unpacking:\n",
    "\n",
    "* AR(p) model: the current value (mean / expectation) of the series depends on $p$  previous timesteps values\n",
    "* ARCH(p): the variance of the current time step is dependent on $p$ lagged squared standard error terms. The standard error is the difference between the observed and predicted value from another model.\n",
    "* estimated with OLS \n",
    "* Lagrange multiplier test\n",
    "\n",
    "Let's see how we can go about this in practice:"
   ]
  },
  {
   "cell_type": "code",
   "execution_count": null,
   "metadata": {
    "execution": {
     "iopub.execute_input": "2022-03-05T15:19:46.590277Z",
     "iopub.status.busy": "2022-03-05T15:19:46.589308Z",
     "iopub.status.idle": "2022-03-05T15:19:46.612852Z",
     "shell.execute_reply": "2022-03-05T15:19:46.611755Z",
     "shell.execute_reply.started": "2022-03-05T15:19:46.590226Z"
    },
    "trusted": true
   },
   "outputs": [],
   "source": [
    "from arch import arch_model\n",
    "\n",
    "am = arch_model(100 * dfl, p = 1, q = 0)\n",
    "res = am.fit(update_freq=5)\n",
    "print(res.summary())"
   ]
  },
  {
   "cell_type": "code",
   "execution_count": null,
   "metadata": {
    "execution": {
     "iopub.execute_input": "2022-03-05T14:55:11.652873Z",
     "iopub.status.busy": "2022-03-05T14:55:11.652456Z",
     "iopub.status.idle": "2022-03-05T14:56:48.83449Z",
     "shell.execute_reply": "2022-03-05T14:56:48.833467Z",
     "shell.execute_reply.started": "2022-03-05T14:55:11.652822Z"
    },
    "trusted": true
   },
   "outputs": [],
   "source": [
    "res.plot(); print()"
   ]
  },
  {
   "cell_type": "markdown",
   "metadata": {},
   "source": [
    "We can run some diagnostics on the model:\n",
    "* Ljung-Box: \n",
    "\n",
    "a test for autocorrelation (usable in tandem with ACF / PACF plots). H0 : The data is independently distributed, no autocorrelation, H1 : there is serial correlation.\n",
    "\n",
    "* Engle ARCH: Ljung-Box and a Lagrange Multiplier test to determine if our ARCH model has captured the conditional heteroskedasticity \n",
    "\n",
    "H0 : the residuals are homoscedastic H1: squared residuals exhibit heteroskedasticity"
   ]
  },
  {
   "cell_type": "code",
   "execution_count": null,
   "metadata": {
    "execution": {
     "iopub.execute_input": "2022-03-05T14:56:48.837003Z",
     "iopub.status.busy": "2022-03-05T14:56:48.836147Z",
     "iopub.status.idle": "2022-03-05T14:56:48.843411Z",
     "shell.execute_reply": "2022-03-05T14:56:48.842403Z",
     "shell.execute_reply.started": "2022-03-05T14:56:48.83695Z"
    },
    "trusted": true
   },
   "outputs": [],
   "source": [
    "max_lags = 5\n",
    "residuals = res.resid\n",
    "st_residuals = np.divide(res.resid, res.conditional_volatility)"
   ]
  },
  {
   "cell_type": "code",
   "execution_count": null,
   "metadata": {
    "execution": {
     "iopub.execute_input": "2022-03-05T14:56:48.844855Z",
     "iopub.status.busy": "2022-03-05T14:56:48.844546Z",
     "iopub.status.idle": "2022-03-05T14:56:49.145112Z",
     "shell.execute_reply": "2022-03-05T14:56:49.144093Z",
     "shell.execute_reply.started": "2022-03-05T14:56:48.844797Z"
    },
    "trusted": true
   },
   "outputs": [],
   "source": [
    "plot_acf(dfl ** 2); print()"
   ]
  },
  {
   "cell_type": "code",
   "execution_count": null,
   "metadata": {
    "execution": {
     "iopub.execute_input": "2022-03-05T14:56:49.147424Z",
     "iopub.status.busy": "2022-03-05T14:56:49.146763Z",
     "iopub.status.idle": "2022-03-05T14:56:49.441854Z",
     "shell.execute_reply": "2022-03-05T14:56:49.440752Z",
     "shell.execute_reply.started": "2022-03-05T14:56:49.147387Z"
    },
    "trusted": true
   },
   "outputs": [],
   "source": [
    "plot_acf(st_residuals ** 2); print()"
   ]
  },
  {
   "cell_type": "code",
   "execution_count": null,
   "metadata": {
    "execution": {
     "iopub.execute_input": "2022-03-05T14:56:49.443697Z",
     "iopub.status.busy": "2022-03-05T14:56:49.443465Z",
     "iopub.status.idle": "2022-03-05T14:56:49.460132Z",
     "shell.execute_reply": "2022-03-05T14:56:49.458767Z",
     "shell.execute_reply.started": "2022-03-05T14:56:49.44367Z"
    },
    "trusted": true
   },
   "outputs": [],
   "source": [
    "# Ljung-Box\n",
    "\n",
    "lb_test = acorr_ljungbox(dfl ** 2 , lags = max_lags)\n",
    "for lag in range(max_lags):\n",
    "    print('lag: ' + str(lag) + ' pval: ' + str(np.round( lb_test[1][lag], 4) ))"
   ]
  },
  {
   "cell_type": "code",
   "execution_count": null,
   "metadata": {
    "execution": {
     "iopub.execute_input": "2022-03-05T14:56:49.463289Z",
     "iopub.status.busy": "2022-03-05T14:56:49.462914Z",
     "iopub.status.idle": "2022-03-05T14:56:49.479913Z",
     "shell.execute_reply": "2022-03-05T14:56:49.478852Z",
     "shell.execute_reply.started": "2022-03-05T14:56:49.463253Z"
    },
    "trusted": true
   },
   "outputs": [],
   "source": [
    "lb_test = acorr_ljungbox(st_residuals ** 2 , lags = max_lags)\n",
    "for lag in range(max_lags):\n",
    "    print('lag: ' + str(lag) + ' pval: ' + str(np.round( lb_test[1][lag], 4) ))"
   ]
  },
  {
   "cell_type": "code",
   "execution_count": null,
   "metadata": {
    "execution": {
     "iopub.execute_input": "2022-03-05T14:56:49.484348Z",
     "iopub.status.busy": "2022-03-05T14:56:49.484094Z",
     "iopub.status.idle": "2022-03-05T14:56:49.500949Z",
     "shell.execute_reply": "2022-03-05T14:56:49.49996Z",
     "shell.execute_reply.started": "2022-03-05T14:56:49.484318Z"
    },
    "trusted": true
   },
   "outputs": [],
   "source": [
    "# Engle ARCH\n",
    "etest = het_arch(dfl, maxlag=5)\n",
    "print('pval Lagrange: ' + str(np.round(etest[1],4)))\n",
    "print('pval F-test: ' + str(np.round(etest[1],4)))"
   ]
  },
  {
   "cell_type": "code",
   "execution_count": null,
   "metadata": {
    "execution": {
     "iopub.execute_input": "2022-03-05T14:56:49.503114Z",
     "iopub.status.busy": "2022-03-05T14:56:49.502536Z",
     "iopub.status.idle": "2022-03-05T14:56:49.519965Z",
     "shell.execute_reply": "2022-03-05T14:56:49.518906Z",
     "shell.execute_reply.started": "2022-03-05T14:56:49.503064Z"
    },
    "trusted": true
   },
   "outputs": [],
   "source": [
    "etest = het_arch(st_residuals, maxlag=5)\n",
    "print('pval Lagrange: ' + str(np.round(etest[1],4)))\n",
    "print('pval F-test: ' + str(np.round(etest[1],4)))"
   ]
  },
  {
   "cell_type": "markdown",
   "metadata": {},
   "source": [
    "## GARCH\n",
    "\n",
    "GARCH is an extension of ARCH - it allows for variance depending on its own lags and the lags of the squared residuals. The model formula is:\n",
    "\n",
    "\\begin{equation}\n",
    "\\sigma_t^2 = \\omega + \\sum_{i=1}^p \\alpha_i \\epsilon_{t-i}^2 + \\sum_{i=1}^q \\beta_i \\sigma_{t-i}^2\\\\\n",
    "\\end{equation}\n",
    " \n",
    "Unpacking:\n",
    "* p - number of lag error terms\n",
    "* q - number of lag variances\n",
    "* `arch` notation!\n",
    "\n",
    "\n",
    "In theory you can specify different orders of $(p,q)$, but absent a good reason to think otherwise it's usually good to start with (1,1).\n",
    "\n",
    "\n",
    "\n",
    "\n"
   ]
  },
  {
   "cell_type": "code",
   "execution_count": null,
   "metadata": {
    "execution": {
     "iopub.execute_input": "2022-03-05T14:56:49.522558Z",
     "iopub.status.busy": "2022-03-05T14:56:49.521986Z",
     "iopub.status.idle": "2022-03-05T14:56:49.667527Z",
     "shell.execute_reply": "2022-03-05T14:56:49.666509Z",
     "shell.execute_reply.started": "2022-03-05T14:56:49.522505Z"
    },
    "trusted": true
   },
   "outputs": [],
   "source": [
    "gm = arch_model(100 * dfl, p = 1, q = 1)\n",
    "res = gm.fit(update_freq=5)\n",
    "print(res.summary())"
   ]
  },
  {
   "cell_type": "code",
   "execution_count": null,
   "metadata": {
    "execution": {
     "iopub.execute_input": "2022-03-05T14:56:49.674134Z",
     "iopub.status.busy": "2022-03-05T14:56:49.673213Z",
     "iopub.status.idle": "2022-03-05T14:56:49.707732Z",
     "shell.execute_reply": "2022-03-05T14:56:49.706698Z",
     "shell.execute_reply.started": "2022-03-05T14:56:49.674069Z"
    },
    "trusted": true
   },
   "outputs": [],
   "source": [
    "# Ljung-Box\n",
    "residuals = res.resid\n",
    "st_residuals = np.divide(res.resid, res.conditional_volatility)\n",
    "lb_test = acorr_ljungbox(dfl ** 2 , lags = max_lags)\n",
    "for lag in range(max_lags):\n",
    "    print('lag: ' + str(lag) + ' pval: ' + str(np.round( lb_test[1][lag], 4) ))"
   ]
  },
  {
   "cell_type": "code",
   "execution_count": null,
   "metadata": {
    "execution": {
     "iopub.execute_input": "2022-03-05T14:56:49.71459Z",
     "iopub.status.busy": "2022-03-05T14:56:49.71351Z",
     "iopub.status.idle": "2022-03-05T14:56:49.745477Z",
     "shell.execute_reply": "2022-03-05T14:56:49.744203Z",
     "shell.execute_reply.started": "2022-03-05T14:56:49.714528Z"
    },
    "trusted": true
   },
   "outputs": [],
   "source": [
    "lb_test = acorr_ljungbox(st_residuals ** 2 , lags = max_lags)\n",
    "for lag in range(max_lags):\n",
    "    print('lag: ' + str(lag) + ' pval: ' + str(np.round( lb_test[1][lag], 4) ))"
   ]
  },
  {
   "cell_type": "code",
   "execution_count": null,
   "metadata": {
    "execution": {
     "iopub.execute_input": "2022-03-05T14:56:49.751906Z",
     "iopub.status.busy": "2022-03-05T14:56:49.751382Z",
     "iopub.status.idle": "2022-03-05T14:56:49.774569Z",
     "shell.execute_reply": "2022-03-05T14:56:49.773131Z",
     "shell.execute_reply.started": "2022-03-05T14:56:49.751853Z"
    },
    "trusted": true
   },
   "outputs": [],
   "source": [
    "# Engle ARCH\n",
    "etest = het_arch(dfl, maxlag=5)\n",
    "print('pval Lagrange: ' + str(np.round(etest[1],4)))\n",
    "print('pval F-test: ' + str(np.round(etest[1],4)))"
   ]
  },
  {
   "cell_type": "code",
   "execution_count": null,
   "metadata": {
    "execution": {
     "iopub.execute_input": "2022-03-05T14:56:49.777258Z",
     "iopub.status.busy": "2022-03-05T14:56:49.776491Z",
     "iopub.status.idle": "2022-03-05T14:56:49.79213Z",
     "shell.execute_reply": "2022-03-05T14:56:49.791105Z",
     "shell.execute_reply.started": "2022-03-05T14:56:49.777186Z"
    },
    "trusted": true
   },
   "outputs": [],
   "source": [
    "etest = het_arch(st_residuals, maxlag=5)\n",
    "print('pval Lagrange: ' + str(np.round(etest[1],4)))\n",
    "print('pval F-test: ' + str(np.round(etest[1],4)))"
   ]
  },
  {
   "cell_type": "markdown",
   "metadata": {},
   "source": [
    "## Extensions\n",
    "\n",
    "* numerous extensions are possible to the basic GARCH \n",
    "* GJR - use asymmetric shock:\n",
    "\\begin{equation}\n",
    "\\sigma_t^2 = \\omega + \\alpha_1 \\epsilon_{t-1}^2 + \\gamma \\mathbf{1}_{\\epsilon_{t-1} < 0 } + \\beta_1 \\sigma_{t-1}^2\\\\\n",
    "\\end{equation}\n",
    "\n",
    "* TARCH - absolute values:\n",
    "\\begin{equation}\n",
    "\\sigma_t^k  = \\omega + \\alpha_1 \\left| \\epsilon_{t-1} \\right|^k + \\gamma \\left| \\epsilon_{t-1} \\right|^k   \\mathbf{1}_{\\epsilon_{t-1} < 0 } + \\beta_1 \\sigma_{t-1}^k\\\\\n",
    "\\end{equation}\n"
   ]
  },
  {
   "cell_type": "markdown",
   "metadata": {},
   "source": [
    "## ARMA-GARCH\n",
    "\n",
    "* we assumed constant **mean** so far - frequently not true \n",
    "* combine ARIMA and GARCH: conditional mean $\\rightarrow$ conditional variance on residuals \n",
    "* joint estimation > sequential - estimate consistency"
   ]
  },
  {
   "cell_type": "code",
   "execution_count": null,
   "metadata": {
    "execution": {
     "iopub.execute_input": "2022-03-05T14:56:49.795376Z",
     "iopub.status.busy": "2022-03-05T14:56:49.794645Z",
     "iopub.status.idle": "2022-03-05T14:56:49.827399Z",
     "shell.execute_reply": "2022-03-05T14:56:49.826464Z",
     "shell.execute_reply.started": "2022-03-05T14:56:49.79532Z"
    },
    "trusted": true
   },
   "outputs": [],
   "source": [
    "from arch.univariate import ARX\n",
    "\n",
    "ar = ARX(100 * dfl, lags=[1, 3])\n",
    "print(ar.fit().summary())"
   ]
  },
  {
   "cell_type": "code",
   "execution_count": null,
   "metadata": {
    "execution": {
     "iopub.execute_input": "2022-03-05T14:56:49.830149Z",
     "iopub.status.busy": "2022-03-05T14:56:49.829451Z",
     "iopub.status.idle": "2022-03-05T14:56:50.003675Z",
     "shell.execute_reply": "2022-03-05T14:56:50.002666Z",
     "shell.execute_reply.started": "2022-03-05T14:56:49.830096Z"
    },
    "trusted": true
   },
   "outputs": [],
   "source": [
    "from arch.univariate import ARCH, GARCH\n",
    "\n",
    "ar.volatility = GARCH(p=1, q = 1)\n",
    "res = ar.fit(update_freq=0, disp=\"off\")\n",
    "print(res.summary())"
   ]
  },
  {
   "cell_type": "code",
   "execution_count": null,
   "metadata": {
    "execution": {
     "iopub.execute_input": "2022-03-05T14:56:50.006489Z",
     "iopub.status.busy": "2022-03-05T14:56:50.005809Z",
     "iopub.status.idle": "2022-03-05T14:58:21.712655Z",
     "shell.execute_reply": "2022-03-05T14:58:21.711756Z",
     "shell.execute_reply.started": "2022-03-05T14:56:50.006435Z"
    },
    "trusted": true
   },
   "outputs": [],
   "source": [
    "fig = res.plot()"
   ]
  },
  {
   "cell_type": "markdown",
   "metadata": {},
   "source": [
    "<a id=\"section-three\"></a>\n",
    "# Forecasting\n",
    "\n",
    "* multi-step forecasts: recursion $\\rightarrow$ analytical form $\\sim$ linear in squared residual\n",
    "* simulation: parametric distribution\n",
    "* bootstrap: akin to simulation, but empirical residuals\n"
   ]
  },
  {
   "cell_type": "code",
   "execution_count": null,
   "metadata": {
    "execution": {
     "iopub.execute_input": "2022-03-05T14:58:21.714101Z",
     "iopub.status.busy": "2022-03-05T14:58:21.713877Z",
     "iopub.status.idle": "2022-03-05T14:58:21.723667Z",
     "shell.execute_reply": "2022-03-05T14:58:21.722671Z",
     "shell.execute_reply.started": "2022-03-05T14:58:21.714074Z"
    },
    "trusted": true
   },
   "outputs": [],
   "source": [
    "\n",
    "dfl = np.log1p(df.VWAP).diff().dropna()\n",
    "print(dfl.index.min(), dfl.index.max())"
   ]
  },
  {
   "cell_type": "code",
   "execution_count": null,
   "metadata": {
    "execution": {
     "iopub.execute_input": "2022-03-05T14:58:21.725172Z",
     "iopub.status.busy": "2022-03-05T14:58:21.724931Z",
     "iopub.status.idle": "2022-03-05T14:58:21.739891Z",
     "shell.execute_reply": "2022-03-05T14:58:21.738847Z",
     "shell.execute_reply.started": "2022-03-05T14:58:21.725142Z"
    },
    "trusted": true
   },
   "outputs": [],
   "source": [
    "# split into training and validation\n",
    "xtr, xval = dfl.loc[:'2021-01-01'], dfl.loc['2021-01-01':]"
   ]
  },
  {
   "cell_type": "code",
   "execution_count": null,
   "metadata": {
    "execution": {
     "iopub.execute_input": "2022-03-05T14:58:21.741651Z",
     "iopub.status.busy": "2022-03-05T14:58:21.741069Z",
     "iopub.status.idle": "2022-03-05T14:58:21.916763Z",
     "shell.execute_reply": "2022-03-05T14:58:21.91576Z",
     "shell.execute_reply.started": "2022-03-05T14:58:21.741611Z"
    },
    "trusted": true
   },
   "outputs": [],
   "source": [
    "# fit the model \n",
    "\n",
    "ar = ARX(100 * xtr, lags=[1])\n",
    "ar.volatility = GARCH(p=1, q = 1)\n",
    "res = ar.fit(update_freq=0, disp=\"off\")\n",
    "print(res.summary())\n"
   ]
  },
  {
   "cell_type": "code",
   "execution_count": null,
   "metadata": {
    "execution": {
     "iopub.execute_input": "2022-03-05T14:58:21.919506Z",
     "iopub.status.busy": "2022-03-05T14:58:21.918459Z",
     "iopub.status.idle": "2022-03-05T14:58:21.950927Z",
     "shell.execute_reply": "2022-03-05T14:58:21.949832Z",
     "shell.execute_reply.started": "2022-03-05T14:58:21.919446Z"
    },
    "trusted": true
   },
   "outputs": [],
   "source": [
    "# build the forecast\n",
    "xfor = res.forecast(horizon= xval.shape[0])\n",
    "\n",
    "# ugly workaround, I know\n",
    "mean_forecast = xfor.mean.tail(1).values.reshape(len(xval),1)\n",
    "\n",
    "forecast = pd.DataFrame()\n",
    "forecast['Date'] = xval.index\n",
    "forecast['VWAP'] = xval.values\n",
    "forecast['fc_mean'] = xfor.mean.tail(1).values.reshape(len(xval),1)\n",
    "forecast['fc_std'] = np.sqrt(xfor.variance.tail(1).values.reshape(len(xval),1))"
   ]
  },
  {
   "cell_type": "code",
   "execution_count": null,
   "metadata": {
    "execution": {
     "iopub.execute_input": "2022-03-05T15:02:15.30522Z",
     "iopub.status.busy": "2022-03-05T15:02:15.304817Z",
     "iopub.status.idle": "2022-03-05T15:02:15.330029Z",
     "shell.execute_reply": "2022-03-05T15:02:15.329326Z",
     "shell.execute_reply.started": "2022-03-05T15:02:15.305182Z"
    },
    "trusted": true
   },
   "outputs": [],
   "source": [
    "forecast"
   ]
  },
  {
   "cell_type": "markdown",
   "metadata": {},
   "source": [
    "<a id=\"section-four\"></a>\n",
    "# Value at Risk\n"
   ]
  },
  {
   "cell_type": "code",
   "execution_count": null,
   "metadata": {
    "execution": {
     "iopub.execute_input": "2022-03-05T15:23:58.778517Z",
     "iopub.status.busy": "2022-03-05T15:23:58.778156Z",
     "iopub.status.idle": "2022-03-05T15:23:58.785404Z",
     "shell.execute_reply": "2022-03-05T15:23:58.784768Z",
     "shell.execute_reply.started": "2022-03-05T15:23:58.778484Z"
    },
    "trusted": true
   },
   "outputs": [],
   "source": [
    "from IPython.display import Image\n",
    "Image(url=\"http://upload.wikimedia.org/wikipedia/commons/6/64/VaR_diagram.JPG\")"
   ]
  },
  {
   "cell_type": "markdown",
   "metadata": {},
   "source": [
    "\n",
    "* VaR is a measure of the risk of loss for investments\n",
    "* imperfect, but very popular\n",
    "* estimates how much a set of investments might lose (with a given probability), given normal market conditions, in a set time period such as a day\n",
    "* GARCH: VaR $\\sim$ conditional mean, the conditional volatility and the quantile of the standardized residuals\n",
    "\n",
    "\\begin{equation}\n",
    "VaR_{t+1|t} = -\\mu_{t+1|t} - \\sigma_{t+1|t} q_q\n",
    "\\end{equation}\n"
   ]
  },
  {
   "cell_type": "code",
   "execution_count": null,
   "metadata": {
    "execution": {
     "iopub.execute_input": "2022-03-05T15:19:13.992082Z",
     "iopub.status.busy": "2022-03-05T15:19:13.991813Z",
     "iopub.status.idle": "2022-03-05T15:19:15.480423Z",
     "shell.execute_reply": "2022-03-05T15:19:15.479547Z",
     "shell.execute_reply.started": "2022-03-05T15:19:13.992054Z"
    },
    "trusted": true
   },
   "outputs": [],
   "source": [
    "import arch.data.sp500\n",
    "\n",
    "data = arch.data.sp500.load()\n",
    "market = data[\"Adj Close\"]\n",
    "returns = 100 * market.pct_change().dropna()"
   ]
  },
  {
   "cell_type": "code",
   "execution_count": null,
   "metadata": {
    "execution": {
     "iopub.execute_input": "2022-03-05T15:20:09.335207Z",
     "iopub.status.busy": "2022-03-05T15:20:09.334605Z",
     "iopub.status.idle": "2022-03-05T15:20:09.481065Z",
     "shell.execute_reply": "2022-03-05T15:20:09.480204Z",
     "shell.execute_reply.started": "2022-03-05T15:20:09.33515Z"
    },
    "trusted": true
   },
   "outputs": [],
   "source": [
    "am = arch_model(returns, vol=\"Garch\", p=1, o=0, q=1, dist=\"skewt\")\n",
    "res = am.fit(disp=\"off\", last_obs=\"2017-12-31\")"
   ]
  },
  {
   "cell_type": "code",
   "execution_count": null,
   "metadata": {
    "execution": {
     "iopub.execute_input": "2022-03-05T15:20:22.450728Z",
     "iopub.status.busy": "2022-03-05T15:20:22.450397Z",
     "iopub.status.idle": "2022-03-05T15:20:22.472345Z",
     "shell.execute_reply": "2022-03-05T15:20:22.471658Z",
     "shell.execute_reply.started": "2022-03-05T15:20:22.450678Z"
    },
    "trusted": true
   },
   "outputs": [],
   "source": [
    "forecasts = res.forecast(start=\"2018-1-1\", reindex=False)\n",
    "cond_mean = forecasts.mean[\"2018\":]\n",
    "cond_var = forecasts.variance[\"2018\":]\n",
    "q = am.distribution.ppf([0.01, 0.05], res.params[-2:])\n",
    "print(q)"
   ]
  },
  {
   "cell_type": "code",
   "execution_count": null,
   "metadata": {
    "execution": {
     "iopub.execute_input": "2022-03-05T15:21:19.723898Z",
     "iopub.status.busy": "2022-03-05T15:21:19.723292Z",
     "iopub.status.idle": "2022-03-05T15:21:20.198496Z",
     "shell.execute_reply": "2022-03-05T15:21:20.197467Z",
     "shell.execute_reply.started": "2022-03-05T15:21:19.723846Z"
    },
    "trusted": true
   },
   "outputs": [],
   "source": [
    "value_at_risk = -cond_mean.values - np.sqrt(cond_var).values * q[None, :]\n",
    "value_at_risk = pd.DataFrame(value_at_risk, columns=[\"1%\", \"5%\"], index=cond_var.index)\n",
    "ax = value_at_risk.plot(legend=False)\n",
    "xl = ax.set_xlim(value_at_risk.index[0], value_at_risk.index[-1])\n",
    "rets_2018 = returns[\"2018\":].copy()\n",
    "rets_2018.name = \"S&P 500 Return\"\n",
    "c = []\n",
    "for idx in value_at_risk.index:\n",
    "    if rets_2018[idx] > -value_at_risk.loc[idx, \"5%\"]:\n",
    "        c.append(\"#000000\")\n",
    "    elif rets_2018[idx] < -value_at_risk.loc[idx, \"1%\"]:\n",
    "        c.append(\"#BB0000\")\n",
    "    else:\n",
    "        c.append(\"#BB00BB\")\n",
    "c = np.array(c, dtype=\"object\")\n",
    "labels = {\"#BB0000\": \"1% Exceedence\", \"#BB00BB\": \"5% Exceedence\", \"#000000\": \"No Exceedence\",}\n",
    "markers = {\"#BB0000\": \"x\", \"#BB00BB\": \"s\", \"#000000\": \"o\"}\n",
    "for color in np.unique(c):\n",
    "    sel = c == color\n",
    "    ax.scatter(\n",
    "        rets_2018.index[sel],\n",
    "        -rets_2018.loc[sel],\n",
    "        marker=markers[color],\n",
    "        c=c[sel],\n",
    "        label=labels[color],\n",
    "    )\n",
    "ax.set_title(\"Parametric VaR\")\n",
    "leg = ax.legend(frameon=False, ncol=3)"
   ]
  }
 ],
 "metadata": {
  "kaggle": {
   "accelerator": "none",
   "dataSources": [
    {
     "datasetId": 423609,
     "sourceId": 2179861,
     "sourceType": "datasetVersion"
    }
   ],
   "dockerImageVersionId": 30152,
   "isGpuEnabled": false,
   "isInternetEnabled": true,
   "language": "python",
   "sourceType": "notebook"
  },
  "kernelspec": {
   "display_name": "env_genai_docs",
   "language": "python",
   "name": "python3"
  },
  "language_info": {
   "codemirror_mode": {
    "name": "ipython",
    "version": 3
   },
   "file_extension": ".py",
   "mimetype": "text/x-python",
   "name": "python",
   "nbconvert_exporter": "python",
   "pygments_lexer": "ipython3",
   "version": "3.10.12"
  }
 },
 "nbformat": 4,
 "nbformat_minor": 4
}
